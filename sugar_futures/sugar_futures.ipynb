{
 "cells": [
  {
   "cell_type": "code",
   "execution_count": 30,
   "metadata": {},
   "outputs": [],
   "source": [
    "# import the libraries\n",
    "import numpy as np\n",
    "import pandas as pd\n",
    "import panel as pn\n",
    "import hvplot.pandas\n",
    "from bokeh.plotting import figure\n",
    "# from bokeh.io import out_notebook, show\n",
    "import holoviews as hv\n",
    "from holoviews import dim\n",
    "import jupyter_bokeh"
   ]
  },
  {
   "cell_type": "code",
   "execution_count": 31,
   "metadata": {},
   "outputs": [
    {
     "data": {
      "text/html": [
       "<div>\n",
       "<style scoped>\n",
       "    .dataframe tbody tr th:only-of-type {\n",
       "        vertical-align: middle;\n",
       "    }\n",
       "\n",
       "    .dataframe tbody tr th {\n",
       "        vertical-align: top;\n",
       "    }\n",
       "\n",
       "    .dataframe thead th {\n",
       "        text-align: right;\n",
       "    }\n",
       "</style>\n",
       "<table border=\"1\" class=\"dataframe\">\n",
       "  <thead>\n",
       "    <tr style=\"text-align: right;\">\n",
       "      <th></th>\n",
       "      <th>ID</th>\n",
       "      <th>Market_and_Exchange_Names</th>\n",
       "      <th>Report_Date_as_YYYY_MM_DD</th>\n",
       "      <th>YYYY Report Week WW</th>\n",
       "      <th>Contract_Market_Name</th>\n",
       "      <th>CFTC_Contract_Market_Code</th>\n",
       "      <th>CFTC_Market_Code</th>\n",
       "      <th>CFTC_Region_Code</th>\n",
       "      <th>CFTC_Commodity_Code</th>\n",
       "      <th>Commodity Name</th>\n",
       "      <th>...</th>\n",
       "      <th>Traders_Tot_Rept_Long_All</th>\n",
       "      <th>Traders_Tot_Rept_Short_All</th>\n",
       "      <th>Traders_Prod_Merc_Long_Old</th>\n",
       "      <th>Traders_Prod_Merc_Short_Old</th>\n",
       "      <th>Traders_Prod_Merc_Long_Other</th>\n",
       "      <th>Contract_Units</th>\n",
       "      <th>CFTC_SubGroup_Code</th>\n",
       "      <th>COMMODITY_NAME</th>\n",
       "      <th>COMMODITY_SUBGROUP_NAME</th>\n",
       "      <th>COMMODITY_GROUP_NAME</th>\n",
       "    </tr>\n",
       "  </thead>\n",
       "  <tbody>\n",
       "    <tr>\n",
       "      <th>0</th>\n",
       "      <td>220802080732F</td>\n",
       "      <td>SUGAR NO. 11 - ICE FUTURES U.S.</td>\n",
       "      <td>2022-08-02</td>\n",
       "      <td>2022 Report Week 31</td>\n",
       "      <td>SUGAR NO. 11</td>\n",
       "      <td>80732</td>\n",
       "      <td>ICUS</td>\n",
       "      <td>NYC</td>\n",
       "      <td>80</td>\n",
       "      <td>SUGAR</td>\n",
       "      <td>...</td>\n",
       "      <td>199</td>\n",
       "      <td>178</td>\n",
       "      <td>58</td>\n",
       "      <td>49</td>\n",
       "      <td>0</td>\n",
       "      <td>(CONTRACTS OF 112,000 POUNDS)</td>\n",
       "      <td>A50</td>\n",
       "      <td>SUGAR</td>\n",
       "      <td>FOODSTUFFS/SOFTS</td>\n",
       "      <td>AGRICULTURE</td>\n",
       "    </tr>\n",
       "    <tr>\n",
       "      <th>1</th>\n",
       "      <td>220809080732F</td>\n",
       "      <td>SUGAR NO. 11 - ICE FUTURES U.S.</td>\n",
       "      <td>2022-08-09</td>\n",
       "      <td>2022 Report Week 32</td>\n",
       "      <td>SUGAR NO. 11</td>\n",
       "      <td>80732</td>\n",
       "      <td>ICUS</td>\n",
       "      <td>NYC</td>\n",
       "      <td>80</td>\n",
       "      <td>SUGAR</td>\n",
       "      <td>...</td>\n",
       "      <td>189</td>\n",
       "      <td>173</td>\n",
       "      <td>57</td>\n",
       "      <td>47</td>\n",
       "      <td>0</td>\n",
       "      <td>(CONTRACTS OF 112,000 POUNDS)</td>\n",
       "      <td>A50</td>\n",
       "      <td>SUGAR</td>\n",
       "      <td>FOODSTUFFS/SOFTS</td>\n",
       "      <td>AGRICULTURE</td>\n",
       "    </tr>\n",
       "    <tr>\n",
       "      <th>2</th>\n",
       "      <td>220816080732F</td>\n",
       "      <td>SUGAR NO. 11 - ICE FUTURES U.S.</td>\n",
       "      <td>2022-08-16</td>\n",
       "      <td>2022 Report Week 33</td>\n",
       "      <td>SUGAR NO. 11</td>\n",
       "      <td>80732</td>\n",
       "      <td>ICUS</td>\n",
       "      <td>NYC</td>\n",
       "      <td>80</td>\n",
       "      <td>SUGAR</td>\n",
       "      <td>...</td>\n",
       "      <td>187</td>\n",
       "      <td>178</td>\n",
       "      <td>55</td>\n",
       "      <td>52</td>\n",
       "      <td>0</td>\n",
       "      <td>(CONTRACTS OF 112,000 POUNDS)</td>\n",
       "      <td>A50</td>\n",
       "      <td>SUGAR</td>\n",
       "      <td>FOODSTUFFS/SOFTS</td>\n",
       "      <td>AGRICULTURE</td>\n",
       "    </tr>\n",
       "    <tr>\n",
       "      <th>3</th>\n",
       "      <td>220823080732F</td>\n",
       "      <td>SUGAR NO. 11 - ICE FUTURES U.S.</td>\n",
       "      <td>2022-08-23</td>\n",
       "      <td>2022 Report Week 34</td>\n",
       "      <td>SUGAR NO. 11</td>\n",
       "      <td>80732</td>\n",
       "      <td>ICUS</td>\n",
       "      <td>NYC</td>\n",
       "      <td>80</td>\n",
       "      <td>SUGAR</td>\n",
       "      <td>...</td>\n",
       "      <td>195</td>\n",
       "      <td>180</td>\n",
       "      <td>59</td>\n",
       "      <td>53</td>\n",
       "      <td>0</td>\n",
       "      <td>(CONTRACTS OF 112,000 POUNDS)</td>\n",
       "      <td>A50</td>\n",
       "      <td>SUGAR</td>\n",
       "      <td>FOODSTUFFS/SOFTS</td>\n",
       "      <td>AGRICULTURE</td>\n",
       "    </tr>\n",
       "    <tr>\n",
       "      <th>4</th>\n",
       "      <td>220726080732F</td>\n",
       "      <td>SUGAR NO. 11 - ICE FUTURES U.S.</td>\n",
       "      <td>2022-07-26</td>\n",
       "      <td>2022 Report Week 30</td>\n",
       "      <td>SUGAR NO. 11</td>\n",
       "      <td>80732</td>\n",
       "      <td>ICUS</td>\n",
       "      <td>NYC</td>\n",
       "      <td>80</td>\n",
       "      <td>SUGAR</td>\n",
       "      <td>...</td>\n",
       "      <td>196</td>\n",
       "      <td>178</td>\n",
       "      <td>58</td>\n",
       "      <td>54</td>\n",
       "      <td>0</td>\n",
       "      <td>(CONTRACTS OF 112,000 POUNDS)</td>\n",
       "      <td>A50</td>\n",
       "      <td>SUGAR</td>\n",
       "      <td>FOODSTUFFS/SOFTS</td>\n",
       "      <td>AGRICULTURE</td>\n",
       "    </tr>\n",
       "  </tbody>\n",
       "</table>\n",
       "<p>5 rows × 47 columns</p>\n",
       "</div>"
      ],
      "text/plain": [
       "              ID        Market_and_Exchange_Names Report_Date_as_YYYY_MM_DD  \\\n",
       "0  220802080732F  SUGAR NO. 11 - ICE FUTURES U.S.                2022-08-02   \n",
       "1  220809080732F  SUGAR NO. 11 - ICE FUTURES U.S.                2022-08-09   \n",
       "2  220816080732F  SUGAR NO. 11 - ICE FUTURES U.S.                2022-08-16   \n",
       "3  220823080732F  SUGAR NO. 11 - ICE FUTURES U.S.                2022-08-23   \n",
       "4  220726080732F  SUGAR NO. 11 - ICE FUTURES U.S.                2022-07-26   \n",
       "\n",
       "   YYYY Report Week WW Contract_Market_Name  CFTC_Contract_Market_Code  \\\n",
       "0  2022 Report Week 31         SUGAR NO. 11                      80732   \n",
       "1  2022 Report Week 32         SUGAR NO. 11                      80732   \n",
       "2  2022 Report Week 33         SUGAR NO. 11                      80732   \n",
       "3  2022 Report Week 34         SUGAR NO. 11                      80732   \n",
       "4  2022 Report Week 30         SUGAR NO. 11                      80732   \n",
       "\n",
       "  CFTC_Market_Code CFTC_Region_Code  CFTC_Commodity_Code Commodity Name  ...  \\\n",
       "0             ICUS              NYC                   80          SUGAR  ...   \n",
       "1             ICUS              NYC                   80          SUGAR  ...   \n",
       "2             ICUS              NYC                   80          SUGAR  ...   \n",
       "3             ICUS              NYC                   80          SUGAR  ...   \n",
       "4             ICUS              NYC                   80          SUGAR  ...   \n",
       "\n",
       "  Traders_Tot_Rept_Long_All Traders_Tot_Rept_Short_All  \\\n",
       "0                       199                        178   \n",
       "1                       189                        173   \n",
       "2                       187                        178   \n",
       "3                       195                        180   \n",
       "4                       196                        178   \n",
       "\n",
       "  Traders_Prod_Merc_Long_Old Traders_Prod_Merc_Short_Old  \\\n",
       "0                         58                          49   \n",
       "1                         57                          47   \n",
       "2                         55                          52   \n",
       "3                         59                          53   \n",
       "4                         58                          54   \n",
       "\n",
       "  Traders_Prod_Merc_Long_Other                 Contract_Units  \\\n",
       "0                            0  (CONTRACTS OF 112,000 POUNDS)   \n",
       "1                            0  (CONTRACTS OF 112,000 POUNDS)   \n",
       "2                            0  (CONTRACTS OF 112,000 POUNDS)   \n",
       "3                            0  (CONTRACTS OF 112,000 POUNDS)   \n",
       "4                            0  (CONTRACTS OF 112,000 POUNDS)   \n",
       "\n",
       "  CFTC_SubGroup_Code COMMODITY_NAME COMMODITY_SUBGROUP_NAME  \\\n",
       "0                A50          SUGAR        FOODSTUFFS/SOFTS   \n",
       "1                A50          SUGAR        FOODSTUFFS/SOFTS   \n",
       "2                A50          SUGAR        FOODSTUFFS/SOFTS   \n",
       "3                A50          SUGAR        FOODSTUFFS/SOFTS   \n",
       "4                A50          SUGAR        FOODSTUFFS/SOFTS   \n",
       "\n",
       "  COMMODITY_GROUP_NAME  \n",
       "0          AGRICULTURE  \n",
       "1          AGRICULTURE  \n",
       "2          AGRICULTURE  \n",
       "3          AGRICULTURE  \n",
       "4          AGRICULTURE  \n",
       "\n",
       "[5 rows x 47 columns]"
      ]
     },
     "execution_count": 31,
     "metadata": {},
     "output_type": "execute_result"
    }
   ],
   "source": [
    "# Load the data\n",
    "data = pd.read_csv(\"D:\\kulea_projects\\sugar_futures\\Sugar_Futures.csv\", parse_dates=[\"Report_Date_as_YYYY_MM_DD\"],) \n",
    "                #    date_format=\"%Y-%m-%d\")\n",
    "data.head()\n"
   ]
  },
  {
   "cell_type": "code",
   "execution_count": 36,
   "metadata": {},
   "outputs": [
    {
     "data": {
      "text/plain": [
       "Index(['ID', 'Market_and_Exchange_Names', 'Report_Date_as_YYYY_MM_DD',\n",
       "       'YYYY Report Week WW', 'Contract_Market_Name',\n",
       "       'CFTC_Contract_Market_Code', 'CFTC_Market_Code', 'CFTC_Region_Code',\n",
       "       'CFTC_Commodity_Code', 'Commodity Name', 'Open_Interest_All',\n",
       "       'Prod_Merc_Positions_Long_All', 'Prod_Merc_Positions_Short_All',\n",
       "       'Swap_Positions_Long_All', 'Swap__Positions_Short_All',\n",
       "       'Other_Rept_Positions_Long_All', 'Other_Rept_Positions_Short_All',\n",
       "       'Tot_Rept_Positions_Long_All', 'Tot_Rept_Positions_Short_All',\n",
       "       'Open_Interest_Old', 'Open_Interest_Other',\n",
       "       'Change_in_Open_Interest_All', 'Change_in_Tot_Rept_Long_All',\n",
       "       'Change_in_Tot_Rept_Short_All', 'Pct_of_Open_Interest_All',\n",
       "       'Pct_of_OI_Prod_Merc_Long_All', 'Pct_of_OI_Prod_Merc_Short_All',\n",
       "       'Pct_of_OI_Tot_Rept_Long_All', 'Pct_of_OI_Tot_Rept_Short_All',\n",
       "       'Pct_of_Open_Interest_Old', 'Pct_of_OI_Prod_Merc_Long_Old',\n",
       "       'Pct_of_OI_Prod_Merc_Short_Old', 'Pct_of_Open_Interest_Other',\n",
       "       'Pct_of_OI_Prod_Merc_Long_Other', 'Pct_of_OI_Prod_Merc_Short_Other',\n",
       "       'Traders_Prod_Merc_Long_All', 'Traders_Prod_Merc_Short_All',\n",
       "       'Traders_Tot_Rept_Long_All', 'Traders_Tot_Rept_Short_All',\n",
       "       'Traders_Prod_Merc_Long_Old', 'Traders_Prod_Merc_Short_Old',\n",
       "       'Traders_Prod_Merc_Long_Other', 'Contract_Units', 'CFTC_SubGroup_Code',\n",
       "       'COMMODITY_NAME', 'COMMODITY_SUBGROUP_NAME', 'COMMODITY_GROUP_NAME'],\n",
       "      dtype='object')"
      ]
     },
     "execution_count": 36,
     "metadata": {},
     "output_type": "execute_result"
    }
   ],
   "source": [
    "data.columns"
   ]
  },
  {
   "cell_type": "code",
   "execution_count": 32,
   "metadata": {},
   "outputs": [
    {
     "data": {
      "text/plain": [
       "0     2022-08-02\n",
       "1     2022-08-09\n",
       "2     2022-08-16\n",
       "3     2022-08-23\n",
       "4     2022-07-26\n",
       "         ...    \n",
       "892   2023-07-18\n",
       "893   2023-07-25\n",
       "894   2023-08-01\n",
       "895   2023-08-08\n",
       "896   2023-08-15\n",
       "Name: Report_Date_as_YYYY_MM_DD, Length: 897, dtype: datetime64[ns]"
      ]
     },
     "execution_count": 32,
     "metadata": {},
     "output_type": "execute_result"
    }
   ],
   "source": [
    "data[\"Report_Date_as_YYYY_MM_DD\"]"
   ]
  },
  {
   "cell_type": "code",
   "execution_count": 33,
   "metadata": {},
   "outputs": [
    {
     "data": {
      "text/plain": [
       "0    760,093\n",
       "1    765,669\n",
       "2    737,535\n",
       "3    750,335\n",
       "4    722,469\n",
       "Name: Open_Interest_All, dtype: object"
      ]
     },
     "execution_count": 33,
     "metadata": {},
     "output_type": "execute_result"
    }
   ],
   "source": [
    "data['Open_Interest_All'][:5]"
   ]
  },
  {
   "cell_type": "code",
   "execution_count": 34,
   "metadata": {},
   "outputs": [
    {
     "data": {
      "text/plain": [
       "0     37,624\n",
       "1      5,576\n",
       "2    -28,134\n",
       "3     12,800\n",
       "4     18,855\n",
       "Name: Change_in_Open_Interest_All, dtype: object"
      ]
     },
     "execution_count": 34,
     "metadata": {},
     "output_type": "execute_result"
    }
   ],
   "source": [
    "data['Change_in_Open_Interest_All'][:5]"
   ]
  },
  {
   "cell_type": "code",
   "execution_count": 29,
   "metadata": {},
   "outputs": [
    {
     "data": {
      "text/plain": [
       "Index(['ID', 'Market_and_Exchange_Names', 'Report_Date_as_YYYY_MM_DD',\n",
       "       'YYYY Report Week WW', 'Contract_Market_Name',\n",
       "       'CFTC_Contract_Market_Code', 'CFTC_Market_Code', 'CFTC_Region_Code',\n",
       "       'CFTC_Commodity_Code', 'Commodity Name', 'Open_Interest_All',\n",
       "       'Prod_Merc_Positions_Long_All', 'Prod_Merc_Positions_Short_All',\n",
       "       'Swap_Positions_Long_All', 'Swap__Positions_Short_All',\n",
       "       'Other_Rept_Positions_Long_All', 'Other_Rept_Positions_Short_All',\n",
       "       'Tot_Rept_Positions_Long_All', 'Tot_Rept_Positions_Short_All',\n",
       "       'Open_Interest_Old', 'Open_Interest_Other',\n",
       "       'Change_in_Open_Interest_All', 'Change_in_Tot_Rept_Long_All',\n",
       "       'Change_in_Tot_Rept_Short_All', 'Pct_of_Open_Interest_All',\n",
       "       'Pct_of_OI_Prod_Merc_Long_All', 'Pct_of_OI_Prod_Merc_Short_All',\n",
       "       'Pct_of_OI_Tot_Rept_Long_All', 'Pct_of_OI_Tot_Rept_Short_All',\n",
       "       'Pct_of_Open_Interest_Old', 'Pct_of_OI_Prod_Merc_Long_Old',\n",
       "       'Pct_of_OI_Prod_Merc_Short_Old', 'Pct_of_Open_Interest_Other',\n",
       "       'Pct_of_OI_Prod_Merc_Long_Other', 'Pct_of_OI_Prod_Merc_Short_Other',\n",
       "       'Traders_Prod_Merc_Long_All', 'Traders_Prod_Merc_Short_All',\n",
       "       'Traders_Tot_Rept_Long_All', 'Traders_Tot_Rept_Short_All',\n",
       "       'Traders_Prod_Merc_Long_Old', 'Traders_Prod_Merc_Short_Old',\n",
       "       'Traders_Prod_Merc_Long_Other', 'Contract_Units', 'CFTC_SubGroup_Code',\n",
       "       'COMMODITY_NAME', 'COMMODITY_SUBGROUP_NAME', 'COMMODITY_GROUP_NAME'],\n",
       "      dtype='object')"
      ]
     },
     "execution_count": 29,
     "metadata": {},
     "output_type": "execute_result"
    }
   ],
   "source": [
    "data.columns"
   ]
  },
  {
   "cell_type": "code",
   "execution_count": 100,
   "metadata": {},
   "outputs": [
    {
     "name": "stdout",
     "output_type": "stream",
     "text": [
      "<class 'pandas.core.frame.DataFrame'>\n",
      "RangeIndex: 897 entries, 0 to 896\n",
      "Data columns (total 47 columns):\n",
      " #   Column                           Non-Null Count  Dtype         \n",
      "---  ------                           --------------  -----         \n",
      " 0   ID                               897 non-null    object        \n",
      " 1   Market_and_Exchange_Names        897 non-null    object        \n",
      " 2   Report_Date_as_YYYY_MM_DD        897 non-null    datetime64[ns]\n",
      " 3   YYYY Report Week WW              897 non-null    object        \n",
      " 4   Contract_Market_Name             897 non-null    object        \n",
      " 5   CFTC_Contract_Market_Code        897 non-null    int64         \n",
      " 6   CFTC_Market_Code                 897 non-null    object        \n",
      " 7   CFTC_Region_Code                 897 non-null    object        \n",
      " 8   CFTC_Commodity_Code              897 non-null    int64         \n",
      " 9   Commodity Name                   897 non-null    object        \n",
      " 10  Open_Interest_All                897 non-null    object        \n",
      " 11  Prod_Merc_Positions_Long_All     897 non-null    object        \n",
      " 12  Prod_Merc_Positions_Short_All    897 non-null    object        \n",
      " 13  Swap_Positions_Long_All          897 non-null    object        \n",
      " 14  Swap__Positions_Short_All        897 non-null    object        \n",
      " 15  Other_Rept_Positions_Long_All    897 non-null    object        \n",
      " 16  Other_Rept_Positions_Short_All   897 non-null    object        \n",
      " 17  Tot_Rept_Positions_Long_All      897 non-null    object        \n",
      " 18  Tot_Rept_Positions_Short_All     897 non-null    object        \n",
      " 19  Open_Interest_Old                897 non-null    object        \n",
      " 20  Open_Interest_Other              897 non-null    int64         \n",
      " 21  Change_in_Open_Interest_All      896 non-null    object        \n",
      " 22  Change_in_Tot_Rept_Long_All      896 non-null    object        \n",
      " 23  Change_in_Tot_Rept_Short_All     896 non-null    object        \n",
      " 24  Pct_of_Open_Interest_All         897 non-null    int64         \n",
      " 25  Pct_of_OI_Prod_Merc_Long_All     897 non-null    float64       \n",
      " 26  Pct_of_OI_Prod_Merc_Short_All    897 non-null    float64       \n",
      " 27  Pct_of_OI_Tot_Rept_Long_All      897 non-null    float64       \n",
      " 28  Pct_of_OI_Tot_Rept_Short_All     897 non-null    float64       \n",
      " 29  Pct_of_Open_Interest_Old         897 non-null    int64         \n",
      " 30  Pct_of_OI_Prod_Merc_Long_Old     897 non-null    float64       \n",
      " 31  Pct_of_OI_Prod_Merc_Short_Old    897 non-null    float64       \n",
      " 32  Pct_of_Open_Interest_Other       897 non-null    int64         \n",
      " 33  Pct_of_OI_Prod_Merc_Long_Other   897 non-null    int64         \n",
      " 34  Pct_of_OI_Prod_Merc_Short_Other  897 non-null    int64         \n",
      " 35  Traders_Prod_Merc_Long_All       897 non-null    int64         \n",
      " 36  Traders_Prod_Merc_Short_All      897 non-null    int64         \n",
      " 37  Traders_Tot_Rept_Long_All        897 non-null    int64         \n",
      " 38  Traders_Tot_Rept_Short_All       897 non-null    int64         \n",
      " 39  Traders_Prod_Merc_Long_Old       897 non-null    int64         \n",
      " 40  Traders_Prod_Merc_Short_Old      897 non-null    int64         \n",
      " 41  Traders_Prod_Merc_Long_Other     897 non-null    int64         \n",
      " 42  Contract_Units                   897 non-null    object        \n",
      " 43  CFTC_SubGroup_Code               897 non-null    object        \n",
      " 44  COMMODITY_NAME                   897 non-null    object        \n",
      " 45  COMMODITY_SUBGROUP_NAME          897 non-null    object        \n",
      " 46  COMMODITY_GROUP_NAME             897 non-null    object        \n",
      "dtypes: datetime64[ns](1), float64(6), int64(15), object(25)\n",
      "memory usage: 329.5+ KB\n"
     ]
    }
   ],
   "source": [
    "data.info()"
   ]
  },
  {
   "cell_type": "code",
   "execution_count": 101,
   "metadata": {},
   "outputs": [
    {
     "data": {
      "text/plain": [
       "0      2022 Report Week 31\n",
       "1      2022 Report Week 32\n",
       "2      2022 Report Week 33\n",
       "3      2022 Report Week 34\n",
       "4      2022 Report Week 30\n",
       "              ...         \n",
       "892    2023 Report Week 29\n",
       "893    2023 Report Week 30\n",
       "894    2023 Report Week 31\n",
       "895    2023 Report Week 32\n",
       "896    2023 Report Week 33\n",
       "Name: YYYY Report Week WW, Length: 897, dtype: object"
      ]
     },
     "execution_count": 101,
     "metadata": {},
     "output_type": "execute_result"
    }
   ],
   "source": [
    "data['YYYY Report Week WW']"
   ]
  },
  {
   "cell_type": "code",
   "execution_count": 102,
   "metadata": {},
   "outputs": [
    {
     "data": {
      "text/html": [
       "<div>\n",
       "<style scoped>\n",
       "    .dataframe tbody tr th:only-of-type {\n",
       "        vertical-align: middle;\n",
       "    }\n",
       "\n",
       "    .dataframe tbody tr th {\n",
       "        vertical-align: top;\n",
       "    }\n",
       "\n",
       "    .dataframe thead th {\n",
       "        text-align: right;\n",
       "    }\n",
       "</style>\n",
       "<table border=\"1\" class=\"dataframe\">\n",
       "  <thead>\n",
       "    <tr style=\"text-align: right;\">\n",
       "      <th></th>\n",
       "      <th>Year</th>\n",
       "      <th>Report_Week</th>\n",
       "    </tr>\n",
       "  </thead>\n",
       "  <tbody>\n",
       "    <tr>\n",
       "      <th>892</th>\n",
       "      <td>2023</td>\n",
       "      <td>29</td>\n",
       "    </tr>\n",
       "    <tr>\n",
       "      <th>893</th>\n",
       "      <td>2023</td>\n",
       "      <td>30</td>\n",
       "    </tr>\n",
       "    <tr>\n",
       "      <th>894</th>\n",
       "      <td>2023</td>\n",
       "      <td>31</td>\n",
       "    </tr>\n",
       "    <tr>\n",
       "      <th>895</th>\n",
       "      <td>2023</td>\n",
       "      <td>32</td>\n",
       "    </tr>\n",
       "    <tr>\n",
       "      <th>896</th>\n",
       "      <td>2023</td>\n",
       "      <td>33</td>\n",
       "    </tr>\n",
       "  </tbody>\n",
       "</table>\n",
       "</div>"
      ],
      "text/plain": [
       "     Year Report_Week\n",
       "892  2023          29\n",
       "893  2023          30\n",
       "894  2023          31\n",
       "895  2023          32\n",
       "896  2023          33"
      ]
     },
     "execution_count": 102,
     "metadata": {},
     "output_type": "execute_result"
    }
   ],
   "source": [
    "data[['Year', 'Report_Week']] = data['YYYY Report Week WW'].str.split(' Report Week ', expand=True)\n",
    "# data.drop('YYYY Report Week WW', axis=1, inplace=True)\n",
    "data[['Year', 'Report_Week']].tail()\n",
    "\n"
   ]
  },
  {
   "cell_type": "code",
   "execution_count": 103,
   "metadata": {},
   "outputs": [
    {
     "data": {
      "text/plain": [
       "0      49\n",
       "1      47\n",
       "2      52\n",
       "3      53\n",
       "4      54\n",
       "       ..\n",
       "892    55\n",
       "893    56\n",
       "894    56\n",
       "895    57\n",
       "896    57\n",
       "Name: Traders_Prod_Merc_Short_All, Length: 897, dtype: int64"
      ]
     },
     "execution_count": 103,
     "metadata": {},
     "output_type": "execute_result"
    }
   ],
   "source": [
    "data['Traders_Prod_Merc_Short_All']"
   ]
  },
  {
   "cell_type": "code",
   "execution_count": 104,
   "metadata": {},
   "outputs": [],
   "source": [
    "data['Open_Interest_All'] = data['Open_Interest_All'].str.replace(',', '').astype(int)\n",
    "data['Prod_Merc_Positions_Long_All'] = data['Prod_Merc_Positions_Long_All'].str.replace(',', '').astype(int)\n",
    "data['Prod_Merc_Positions_Short_All'] = data['Prod_Merc_Positions_Short_All'].str.replace(',', '').astype(int)\n",
    "# data['Traders_Prod_Merc_Short_All'] = data['Traders_Prod_Merc_Short_All'].str.replace(',', '').astype(int)\n",
    "# data['Traders_Prod_Merc_Short_All'] = data['Traders_Prod_Merc_Long_All'].str.replace(',', '').astype(int)"
   ]
  },
  {
   "cell_type": "code",
   "execution_count": 105,
   "metadata": {},
   "outputs": [
    {
     "data": {
      "text/plain": [
       "0      2022\n",
       "1      2022\n",
       "2      2022\n",
       "3      2022\n",
       "4      2022\n",
       "       ... \n",
       "892    2023\n",
       "893    2023\n",
       "894    2023\n",
       "895    2023\n",
       "896    2023\n",
       "Name: Year, Length: 897, dtype: object"
      ]
     },
     "execution_count": 105,
     "metadata": {},
     "output_type": "execute_result"
    }
   ],
   "source": [
    "data['Year']"
   ]
  },
  {
   "cell_type": "code",
   "execution_count": 106,
   "metadata": {},
   "outputs": [
    {
     "data": {
      "text/plain": [
       "count    897.00000\n",
       "mean      57.09922\n",
       "std        5.11390\n",
       "min       38.00000\n",
       "25%       54.00000\n",
       "50%       57.00000\n",
       "75%       60.00000\n",
       "max       70.00000\n",
       "Name: Traders_Prod_Merc_Short_All, dtype: float64"
      ]
     },
     "execution_count": 106,
     "metadata": {},
     "output_type": "execute_result"
    }
   ],
   "source": [
    "data['Traders_Prod_Merc_Short_All'].describe()"
   ]
  },
  {
   "cell_type": "code",
   "execution_count": 135,
   "metadata": {},
   "outputs": [
    {
     "data": {
      "text/plain": [
       "count    897.00000\n",
       "mean      57.09922\n",
       "std        5.11390\n",
       "min       38.00000\n",
       "25%       54.00000\n",
       "50%       57.00000\n",
       "75%       60.00000\n",
       "max       70.00000\n",
       "Name: Traders_Prod_Merc_Short_All, dtype: float64"
      ]
     },
     "execution_count": 135,
     "metadata": {},
     "output_type": "execute_result"
    }
   ],
   "source": [
    "data['Traders_Prod_Merc_Short_All'].describe()"
   ]
  },
  {
   "cell_type": "code",
   "execution_count": 133,
   "metadata": {},
   "outputs": [
    {
     "data": {
      "text/plain": [
       "count    897.00000\n",
       "mean      57.12932\n",
       "std        7.07998\n",
       "min       38.00000\n",
       "25%       52.00000\n",
       "50%       56.00000\n",
       "75%       62.00000\n",
       "max       78.00000\n",
       "Name: Traders_Prod_Merc_Long_All, dtype: float64"
      ]
     },
     "execution_count": 133,
     "metadata": {},
     "output_type": "execute_result"
    }
   ],
   "source": [
    "data['Traders_Prod_Merc_Long_All'].describe()"
   ]
  },
  {
   "cell_type": "code",
   "execution_count": 146,
   "metadata": {},
   "outputs": [
    {
     "data": {
      "text/plain": [
       "array(['(CONTRACTS OF 112,000 POUNDS)'], dtype=object)"
      ]
     },
     "execution_count": 146,
     "metadata": {},
     "output_type": "execute_result"
    }
   ],
   "source": [
    "data['Contract_Units'].unique()"
   ]
  },
  {
   "cell_type": "code",
   "execution_count": 147,
   "metadata": {},
   "outputs": [
    {
     "name": "stderr",
     "output_type": "stream",
     "text": [
      "WARNING:param.Scatter: Chart elements should only be supplied a single kdim\n"
     ]
    },
    {
     "data": {
      "application/vnd.jupyter.widget-view+json": {
       "model_id": "bc3ccf1dd359443496bcb56cbe8ed6ae",
       "version_major": 2,
       "version_minor": 0
      },
      "text/plain": [
       "BokehModel(combine_events=True, render_bundle={'docs_json': {'9850197d-6538-43bd-984f-ed52c8845689': {'version…"
      ]
     },
     "execution_count": 147,
     "metadata": {},
     "output_type": "execute_result"
    }
   ],
   "source": [
    "# Create a Panel DataFrame object\n",
    "df_pane = pn.pane.DataFrame(data)\n",
    "\n",
    "# Create a calendar slider\n",
    "calendar_slider = pn.widgets.DateRangeSlider(name=\"Date Range\", start=data['Report_Date_as_YYYY_MM_DD'].min(),\n",
    "                                             end=data['Report_Date_as_YYYY_MM_DD'].max(),\n",
    "                                             value=(data['Report_Date_as_YYYY_MM_DD'].min(), data['Report_Date_as_YYYY_MM_DD'].max()))\n",
    "\n",
    "# Create charts for various questions\n",
    "# open_interest_chart = data.hvplot(x='Report_Date_as_YYYY_MM_DD', y=np.log(data['Open_Interest_All']), kind='line')\n",
    "open_interest_chart = data.hvplot(x='Report_Date_as_YYYY_MM_DD', y='Open_Interest_All', kind='line')\n",
    "prod_positions_chart = data.hvplot(\n",
    "    x='Report_Date_as_YYYY_MM_DD', \n",
    "    y=['Prod_Merc_Positions_Long_All', 'Prod_Merc_Positions_Short_All', 'Open_Interest_All',], \n",
    "    kind='line')\n",
    "\n",
    "trader_positions_chart_ = data.hvplot(\n",
    "    x='Year', \n",
    "    y=['Traders_Prod_Merc_Long_All', 'Traders_Prod_Merc_Short_All',],# 'Open_Interest_All',], \n",
    "    kind='scatter',\n",
    "    width=800)    \n",
    "\n",
    "# concentration_vs_pct_open_interest_chart = data.hvplot(x='Report_Date_as_YYYY_MM_DD', y=['Conc_Gross_LE_4_TDR_Long_All', 'Pct_of_Open_Interest_All'], kind='line')\n",
    "scatter_plot= hv.Scatter(\n",
    "    data, kdims=['Traders_Prod_Merc_Long_All', 'Traders_Prod_Merc_Short_All'], \n",
    "    vdims=['Open_Interest_All', 'Report_Week'])\n",
    "# Customize the plot appearance\n",
    "scatter_plot.opts(\n",
    "    color='blue',        # Color of the scatter points\n",
    "    size=dim('Open_Interest_All') * 0.000001,  # Size of the markers based on Open Interest (scaled for better visualization)\n",
    "    # size=10,\n",
    "    marker='o',          # Marker style\n",
    "    width=700,           # Width of the plot\n",
    "    # height=800,          # Height of the plot\n",
    "    xlabel='Producer/Merchant Long Positions',\n",
    "    ylabel='Producer/Merchant Short Positions',\n",
    "    title='Relationship between Traders, Open Interest, and Positions'\n",
    ")\n",
    "seasonal_trader_positions_chart = data.hvplot(x='Report_Week', y=['Traders_Prod_Merc_Short_All', 'Traders_Prod_Merc_Long_All'], by='Year', kind='bar', stacked=True)\n",
    "# open_interest_change = data.hvplot(x='YYYY Report Week WW', y='Change_in_Open_Interest_All', kind='bar')\n",
    "# Create the dashboard layout\n",
    "dashboard_layout = pn.Column(\n",
    "    calendar_slider,\n",
    "    # open_interest_change,\n",
    "    open_interest_chart,\n",
    "    prod_positions_chart,\n",
    "    # trader_positions_chart_,\n",
    "    # # concentration_vs_pct_open_interest_chart,\n",
    "    # #traders_vs_open_interest_chart,\n",
    "    # scatter_plot,\n",
    "    # seasonal_trader_positions_chart\n",
    ")\n",
    "\n",
    "# Show the dashboard\n",
    "dashboard_layout.servable()"
   ]
  },
  {
   "cell_type": "code",
   "execution_count": 94,
   "metadata": {},
   "outputs": [
    {
     "data": {
      "text/plain": [
       "count     897\n",
       "unique     53\n",
       "top        31\n",
       "freq       18\n",
       "Name: Report_Week, dtype: object"
      ]
     },
     "execution_count": 94,
     "metadata": {},
     "output_type": "execute_result"
    }
   ],
   "source": [
    "data['Report_Week'].describe()"
   ]
  },
  {
   "cell_type": "code",
   "execution_count": 114,
   "metadata": {},
   "outputs": [
    {
     "name": "stderr",
     "output_type": "stream",
     "text": [
      "WARNING:param.Scatter: Chart elements should only be supplied a single kdim\n"
     ]
    },
    {
     "data": {},
     "metadata": {},
     "output_type": "display_data"
    },
    {
     "data": {
      "application/vnd.holoviews_exec.v0+json": "",
      "text/html": [
       "<div id='p10558'>\n",
       "  <div id=\"f7edccf5-967e-4295-ba8c-0b5bf32c6679\" data-root-id=\"p10558\" style=\"display: contents;\"></div>\n",
       "</div>\n",
       "<script type=\"application/javascript\">(function(root) {\n",
       "  var docs_json = {\"315ca940-5cc6-4dd8-b937-90e0d92421e2\":{\"version\":\"3.2.1\",\"title\":\"Bokeh Application\",\"roots\":[{\"type\":\"object\",\"name\":\"Row\",\"id\":\"p10558\",\"attributes\":{\"name\":\"Row39311\",\"tags\":[\"embedded\"],\"stylesheets\":[\"\\n:host(.pn-loading.pn-arc):before, .pn-loading.pn-arc:before {\\n  background-image: url(\\\"data:image/svg+xml;base64,PHN2ZyB4bWxucz0iaHR0cDovL3d3dy53My5vcmcvMjAwMC9zdmciIHN0eWxlPSJtYXJnaW46IGF1dG87IGJhY2tncm91bmQ6IG5vbmU7IGRpc3BsYXk6IGJsb2NrOyBzaGFwZS1yZW5kZXJpbmc6IGF1dG87IiB2aWV3Qm94PSIwIDAgMTAwIDEwMCIgcHJlc2VydmVBc3BlY3RSYXRpbz0ieE1pZFlNaWQiPiAgPGNpcmNsZSBjeD0iNTAiIGN5PSI1MCIgZmlsbD0ibm9uZSIgc3Ryb2tlPSIjYzNjM2MzIiBzdHJva2Utd2lkdGg9IjEwIiByPSIzNSIgc3Ryb2tlLWRhc2hhcnJheT0iMTY0LjkzMzYxNDMxMzQ2NDE1IDU2Ljk3Nzg3MTQzNzgyMTM4Ij4gICAgPGFuaW1hdGVUcmFuc2Zvcm0gYXR0cmlidXRlTmFtZT0idHJhbnNmb3JtIiB0eXBlPSJyb3RhdGUiIHJlcGVhdENvdW50PSJpbmRlZmluaXRlIiBkdXI9IjFzIiB2YWx1ZXM9IjAgNTAgNTA7MzYwIDUwIDUwIiBrZXlUaW1lcz0iMDsxIj48L2FuaW1hdGVUcmFuc2Zvcm0+ICA8L2NpcmNsZT48L3N2Zz4=\\\");\\n  background-size: auto calc(min(50%, 400px));\\n}\",{\"type\":\"object\",\"name\":\"ImportedStyleSheet\",\"id\":\"p10561\",\"attributes\":{\"url\":\"https://cdn.holoviz.org/panel/1.2.1/dist/css/loading.css\"}},{\"type\":\"object\",\"name\":\"ImportedStyleSheet\",\"id\":\"p10612\",\"attributes\":{\"url\":\"https://cdn.holoviz.org/panel/1.2.1/dist/css/listpanel.css\"}},{\"type\":\"object\",\"name\":\"ImportedStyleSheet\",\"id\":\"p10559\",\"attributes\":{\"url\":\"https://cdn.holoviz.org/panel/1.2.1/dist/bundled/theme/default.css\"}},{\"type\":\"object\",\"name\":\"ImportedStyleSheet\",\"id\":\"p10560\",\"attributes\":{\"url\":\"https://cdn.holoviz.org/panel/1.2.1/dist/bundled/theme/native.css\"}}],\"min_width\":800,\"margin\":0,\"sizing_mode\":\"stretch_width\",\"align\":\"start\",\"children\":[{\"type\":\"object\",\"name\":\"Spacer\",\"id\":\"p10562\",\"attributes\":{\"name\":\"HSpacer39322\",\"stylesheets\":[\"\\n:host(.pn-loading.pn-arc):before, .pn-loading.pn-arc:before {\\n  background-image: url(\\\"data:image/svg+xml;base64,PHN2ZyB4bWxucz0iaHR0cDovL3d3dy53My5vcmcvMjAwMC9zdmciIHN0eWxlPSJtYXJnaW46IGF1dG87IGJhY2tncm91bmQ6IG5vbmU7IGRpc3BsYXk6IGJsb2NrOyBzaGFwZS1yZW5kZXJpbmc6IGF1dG87IiB2aWV3Qm94PSIwIDAgMTAwIDEwMCIgcHJlc2VydmVBc3BlY3RSYXRpbz0ieE1pZFlNaWQiPiAgPGNpcmNsZSBjeD0iNTAiIGN5PSI1MCIgZmlsbD0ibm9uZSIgc3Ryb2tlPSIjYzNjM2MzIiBzdHJva2Utd2lkdGg9IjEwIiByPSIzNSIgc3Ryb2tlLWRhc2hhcnJheT0iMTY0LjkzMzYxNDMxMzQ2NDE1IDU2Ljk3Nzg3MTQzNzgyMTM4Ij4gICAgPGFuaW1hdGVUcmFuc2Zvcm0gYXR0cmlidXRlTmFtZT0idHJhbnNmb3JtIiB0eXBlPSJyb3RhdGUiIHJlcGVhdENvdW50PSJpbmRlZmluaXRlIiBkdXI9IjFzIiB2YWx1ZXM9IjAgNTAgNTA7MzYwIDUwIDUwIiBrZXlUaW1lcz0iMDsxIj48L2FuaW1hdGVUcmFuc2Zvcm0+ICA8L2NpcmNsZT48L3N2Zz4=\\\");\\n  background-size: auto calc(min(50%, 400px));\\n}\",{\"id\":\"p10561\"},{\"id\":\"p10559\"},{\"id\":\"p10560\"}],\"margin\":0,\"sizing_mode\":\"stretch_width\",\"align\":\"start\"}},{\"type\":\"object\",\"name\":\"Figure\",\"id\":\"p10569\",\"attributes\":{\"width\":800,\"margin\":[5,10],\"sizing_mode\":\"fixed\",\"align\":\"start\",\"x_range\":{\"type\":\"object\",\"name\":\"Range1d\",\"id\":\"p10563\",\"attributes\":{\"tags\":[[[\"Traders_Prod_Merc_Long_All\",\"Traders_Prod_Merc_Long_All\",null]],[]],\"start\":35.0,\"end\":81.0,\"reset_start\":35.0,\"reset_end\":81.0}},\"y_range\":{\"type\":\"object\",\"name\":\"Range1d\",\"id\":\"p10564\",\"attributes\":{\"tags\":[[[\"Traders_Prod_Merc_Short_All\",\"Traders_Prod_Merc_Short_All\",null]],{\"type\":\"map\",\"entries\":[[\"invert_yaxis\",false],[\"autorange\",false]]}],\"start\":34.8,\"end\":73.2,\"reset_start\":34.8,\"reset_end\":73.2}},\"x_scale\":{\"type\":\"object\",\"name\":\"LinearScale\",\"id\":\"p10579\"},\"y_scale\":{\"type\":\"object\",\"name\":\"LinearScale\",\"id\":\"p10580\"},\"title\":{\"type\":\"object\",\"name\":\"Title\",\"id\":\"p10572\",\"attributes\":{\"text\":\"Relationship between Traders, Open Interest, and Positions\",\"text_color\":\"black\",\"text_font_size\":\"12pt\"}},\"renderers\":[{\"type\":\"object\",\"name\":\"GlyphRenderer\",\"id\":\"p10605\",\"attributes\":{\"data_source\":{\"type\":\"object\",\"name\":\"ColumnDataSource\",\"id\":\"p10596\",\"attributes\":{\"selected\":{\"type\":\"object\",\"name\":\"Selection\",\"id\":\"p10597\",\"attributes\":{\"indices\":[],\"line_indices\":[]}},\"selection_policy\":{\"type\":\"object\",\"name\":\"UnionRenderers\",\"id\":\"p10598\"},\"data\":{\"type\":\"map\",\"entries\":[[\"Traders_Prod_Merc_Long_All\",{\"type\":\"ndarray\",\"array\":{\"type\":\"bytes\",\"data\":\"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\"},\"shape\":[897],\"dtype\":\"int32\",\"order\":\"little\"}],[\"Traders_Prod_Merc_Short_All\",{\"type\":\"ndarray\",\"array\":{\"type\":\"bytes\",\"data\":\"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\"},\"shape\":[897],\"dtype\":\"int32\",\"order\":\"little\"}],[\"size\",{\"type\":\"ndarray\",\"array\":{\"type\":\"bytes\",\"data\":\"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\"},\"shape\":[897],\"dtype\":\"float64\",\"order\":\"little\"}]]}}},\"view\":{\"type\":\"object\",\"name\":\"CDSView\",\"id\":\"p10606\",\"attributes\":{\"filter\":{\"type\":\"object\",\"name\":\"AllIndices\",\"id\":\"p10607\"}}},\"glyph\":{\"type\":\"object\",\"name\":\"Scatter\",\"id\":\"p10602\",\"attributes\":{\"tags\":[\"apply_ranges\"],\"x\":{\"type\":\"field\",\"field\":\"Traders_Prod_Merc_Long_All\"},\"y\":{\"type\":\"field\",\"field\":\"Traders_Prod_Merc_Short_All\"},\"size\":{\"type\":\"field\",\"field\":\"size\"},\"line_color\":{\"type\":\"value\",\"value\":\"blue\"},\"fill_color\":{\"type\":\"value\",\"value\":\"blue\"},\"hatch_color\":{\"type\":\"value\",\"value\":\"blue\"}}},\"selection_glyph\":{\"type\":\"object\",\"name\":\"Scatter\",\"id\":\"p10608\",\"attributes\":{\"tags\":[\"apply_ranges\"],\"x\":{\"type\":\"field\",\"field\":\"Traders_Prod_Merc_Long_All\"},\"y\":{\"type\":\"field\",\"field\":\"Traders_Prod_Merc_Short_All\"},\"size\":{\"type\":\"field\",\"field\":\"size\"},\"angle\":{\"type\":\"value\",\"value\":0.0},\"line_color\":{\"type\":\"value\",\"value\":\"blue\"},\"line_alpha\":{\"type\":\"value\",\"value\":1.0},\"line_width\":{\"type\":\"value\",\"value\":1},\"line_join\":{\"type\":\"value\",\"value\":\"bevel\"},\"line_cap\":{\"type\":\"value\",\"value\":\"butt\"},\"line_dash\":{\"type\":\"value\",\"value\":[]},\"line_dash_offset\":{\"type\":\"value\",\"value\":0},\"fill_color\":{\"type\":\"value\",\"value\":\"blue\"},\"fill_alpha\":{\"type\":\"value\",\"value\":1.0},\"hatch_color\":{\"type\":\"value\",\"value\":\"blue\"},\"hatch_alpha\":{\"type\":\"value\",\"value\":1.0},\"hatch_scale\":{\"type\":\"value\",\"value\":12.0},\"hatch_pattern\":{\"type\":\"value\",\"value\":null},\"hatch_weight\":{\"type\":\"value\",\"value\":1.0},\"marker\":{\"type\":\"value\",\"value\":\"circle\"}}},\"nonselection_glyph\":{\"type\":\"object\",\"name\":\"Scatter\",\"id\":\"p10603\",\"attributes\":{\"tags\":[\"apply_ranges\"],\"x\":{\"type\":\"field\",\"field\":\"Traders_Prod_Merc_Long_All\"},\"y\":{\"type\":\"field\",\"field\":\"Traders_Prod_Merc_Short_All\"},\"size\":{\"type\":\"field\",\"field\":\"size\"},\"line_color\":{\"type\":\"value\",\"value\":\"blue\"},\"line_alpha\":{\"type\":\"value\",\"value\":0.1},\"fill_color\":{\"type\":\"value\",\"value\":\"blue\"},\"fill_alpha\":{\"type\":\"value\",\"value\":0.1},\"hatch_color\":{\"type\":\"value\",\"value\":\"blue\"},\"hatch_alpha\":{\"type\":\"value\",\"value\":0.1}}},\"muted_glyph\":{\"type\":\"object\",\"name\":\"Scatter\",\"id\":\"p10604\",\"attributes\":{\"tags\":[\"apply_ranges\"],\"x\":{\"type\":\"field\",\"field\":\"Traders_Prod_Merc_Long_All\"},\"y\":{\"type\":\"field\",\"field\":\"Traders_Prod_Merc_Short_All\"},\"size\":{\"type\":\"field\",\"field\":\"size\"},\"line_color\":{\"type\":\"value\",\"value\":\"blue\"},\"line_alpha\":{\"type\":\"value\",\"value\":0.2},\"fill_color\":{\"type\":\"value\",\"value\":\"blue\"},\"fill_alpha\":{\"type\":\"value\",\"value\":0.2},\"hatch_color\":{\"type\":\"value\",\"value\":\"blue\"},\"hatch_alpha\":{\"type\":\"value\",\"value\":0.2}}}}}],\"toolbar\":{\"type\":\"object\",\"name\":\"Toolbar\",\"id\":\"p10578\",\"attributes\":{\"tools\":[{\"type\":\"object\",\"name\":\"WheelZoomTool\",\"id\":\"p10568\",\"attributes\":{\"tags\":[\"hv_created\"],\"zoom_together\":\"none\"}},{\"type\":\"object\",\"name\":\"SaveTool\",\"id\":\"p10591\"},{\"type\":\"object\",\"name\":\"PanTool\",\"id\":\"p10592\"},{\"type\":\"object\",\"name\":\"BoxZoomTool\",\"id\":\"p10593\",\"attributes\":{\"overlay\":{\"type\":\"object\",\"name\":\"BoxAnnotation\",\"id\":\"p10594\",\"attributes\":{\"syncable\":false,\"level\":\"overlay\",\"visible\":false,\"left_units\":\"canvas\",\"right_units\":\"canvas\",\"bottom_units\":\"canvas\",\"top_units\":\"canvas\",\"line_color\":\"black\",\"line_alpha\":1.0,\"line_width\":2,\"line_dash\":[4,4],\"fill_color\":\"lightgrey\",\"fill_alpha\":0.5}}}},{\"type\":\"object\",\"name\":\"ResetTool\",\"id\":\"p10595\"}],\"active_drag\":{\"id\":\"p10592\"},\"active_scroll\":{\"id\":\"p10568\"}}},\"left\":[{\"type\":\"object\",\"name\":\"LinearAxis\",\"id\":\"p10586\",\"attributes\":{\"ticker\":{\"type\":\"object\",\"name\":\"BasicTicker\",\"id\":\"p10587\",\"attributes\":{\"mantissas\":[1,2,5]}},\"formatter\":{\"type\":\"object\",\"name\":\"BasicTickFormatter\",\"id\":\"p10588\"},\"axis_label\":\"Producer/Merchant Short Positions\",\"major_label_policy\":{\"type\":\"object\",\"name\":\"AllLabels\",\"id\":\"p10589\"}}}],\"below\":[{\"type\":\"object\",\"name\":\"LinearAxis\",\"id\":\"p10581\",\"attributes\":{\"ticker\":{\"type\":\"object\",\"name\":\"BasicTicker\",\"id\":\"p10582\",\"attributes\":{\"mantissas\":[1,2,5]}},\"formatter\":{\"type\":\"object\",\"name\":\"BasicTickFormatter\",\"id\":\"p10583\"},\"axis_label\":\"Producer/Merchant Long Positions\",\"major_label_policy\":{\"type\":\"object\",\"name\":\"AllLabels\",\"id\":\"p10584\"}}}],\"center\":[{\"type\":\"object\",\"name\":\"Grid\",\"id\":\"p10585\",\"attributes\":{\"axis\":{\"id\":\"p10581\"},\"grid_line_color\":null}},{\"type\":\"object\",\"name\":\"Grid\",\"id\":\"p10590\",\"attributes\":{\"dimension\":1,\"axis\":{\"id\":\"p10586\"},\"grid_line_color\":null}}],\"min_border_top\":10,\"min_border_bottom\":10,\"min_border_left\":10,\"min_border_right\":10,\"output_backend\":\"webgl\"}},{\"type\":\"object\",\"name\":\"Spacer\",\"id\":\"p10610\",\"attributes\":{\"name\":\"HSpacer39325\",\"stylesheets\":[\"\\n:host(.pn-loading.pn-arc):before, .pn-loading.pn-arc:before {\\n  background-image: url(\\\"data:image/svg+xml;base64,PHN2ZyB4bWxucz0iaHR0cDovL3d3dy53My5vcmcvMjAwMC9zdmciIHN0eWxlPSJtYXJnaW46IGF1dG87IGJhY2tncm91bmQ6IG5vbmU7IGRpc3BsYXk6IGJsb2NrOyBzaGFwZS1yZW5kZXJpbmc6IGF1dG87IiB2aWV3Qm94PSIwIDAgMTAwIDEwMCIgcHJlc2VydmVBc3BlY3RSYXRpbz0ieE1pZFlNaWQiPiAgPGNpcmNsZSBjeD0iNTAiIGN5PSI1MCIgZmlsbD0ibm9uZSIgc3Ryb2tlPSIjYzNjM2MzIiBzdHJva2Utd2lkdGg9IjEwIiByPSIzNSIgc3Ryb2tlLWRhc2hhcnJheT0iMTY0LjkzMzYxNDMxMzQ2NDE1IDU2Ljk3Nzg3MTQzNzgyMTM4Ij4gICAgPGFuaW1hdGVUcmFuc2Zvcm0gYXR0cmlidXRlTmFtZT0idHJhbnNmb3JtIiB0eXBlPSJyb3RhdGUiIHJlcGVhdENvdW50PSJpbmRlZmluaXRlIiBkdXI9IjFzIiB2YWx1ZXM9IjAgNTAgNTA7MzYwIDUwIDUwIiBrZXlUaW1lcz0iMDsxIj48L2FuaW1hdGVUcmFuc2Zvcm0+ICA8L2NpcmNsZT48L3N2Zz4=\\\");\\n  background-size: auto calc(min(50%, 400px));\\n}\",{\"id\":\"p10561\"},{\"id\":\"p10559\"},{\"id\":\"p10560\"}],\"margin\":0,\"sizing_mode\":\"stretch_width\",\"align\":\"start\"}}]}}],\"defs\":[{\"type\":\"model\",\"name\":\"ReactiveHTML1\"},{\"type\":\"model\",\"name\":\"FlexBox1\",\"properties\":[{\"name\":\"align_content\",\"kind\":\"Any\",\"default\":\"flex-start\"},{\"name\":\"align_items\",\"kind\":\"Any\",\"default\":\"flex-start\"},{\"name\":\"flex_direction\",\"kind\":\"Any\",\"default\":\"row\"},{\"name\":\"flex_wrap\",\"kind\":\"Any\",\"default\":\"wrap\"},{\"name\":\"justify_content\",\"kind\":\"Any\",\"default\":\"flex-start\"}]},{\"type\":\"model\",\"name\":\"FloatPanel1\",\"properties\":[{\"name\":\"config\",\"kind\":\"Any\",\"default\":{\"type\":\"map\"}},{\"name\":\"contained\",\"kind\":\"Any\",\"default\":true},{\"name\":\"position\",\"kind\":\"Any\",\"default\":\"right-top\"},{\"name\":\"offsetx\",\"kind\":\"Any\",\"default\":null},{\"name\":\"offsety\",\"kind\":\"Any\",\"default\":null},{\"name\":\"theme\",\"kind\":\"Any\",\"default\":\"primary\"},{\"name\":\"status\",\"kind\":\"Any\",\"default\":\"normalized\"}]},{\"type\":\"model\",\"name\":\"GridStack1\",\"properties\":[{\"name\":\"mode\",\"kind\":\"Any\",\"default\":\"warn\"},{\"name\":\"ncols\",\"kind\":\"Any\",\"default\":null},{\"name\":\"nrows\",\"kind\":\"Any\",\"default\":null},{\"name\":\"allow_resize\",\"kind\":\"Any\",\"default\":true},{\"name\":\"allow_drag\",\"kind\":\"Any\",\"default\":true},{\"name\":\"state\",\"kind\":\"Any\",\"default\":[]}]},{\"type\":\"model\",\"name\":\"drag1\",\"properties\":[{\"name\":\"slider_width\",\"kind\":\"Any\",\"default\":5},{\"name\":\"slider_color\",\"kind\":\"Any\",\"default\":\"black\"},{\"name\":\"value\",\"kind\":\"Any\",\"default\":50}]},{\"type\":\"model\",\"name\":\"click1\",\"properties\":[{\"name\":\"terminal_output\",\"kind\":\"Any\",\"default\":\"\"},{\"name\":\"debug_name\",\"kind\":\"Any\",\"default\":\"\"},{\"name\":\"clears\",\"kind\":\"Any\",\"default\":0}]},{\"type\":\"model\",\"name\":\"FastWrapper1\",\"properties\":[{\"name\":\"object\",\"kind\":\"Any\",\"default\":null},{\"name\":\"style\",\"kind\":\"Any\",\"default\":null}]},{\"type\":\"model\",\"name\":\"NotificationAreaBase1\",\"properties\":[{\"name\":\"js_events\",\"kind\":\"Any\",\"default\":{\"type\":\"map\"}},{\"name\":\"position\",\"kind\":\"Any\",\"default\":\"bottom-right\"},{\"name\":\"_clear\",\"kind\":\"Any\",\"default\":0}]},{\"type\":\"model\",\"name\":\"NotificationArea1\",\"properties\":[{\"name\":\"js_events\",\"kind\":\"Any\",\"default\":{\"type\":\"map\"}},{\"name\":\"notifications\",\"kind\":\"Any\",\"default\":[]},{\"name\":\"position\",\"kind\":\"Any\",\"default\":\"bottom-right\"},{\"name\":\"_clear\",\"kind\":\"Any\",\"default\":0},{\"name\":\"types\",\"kind\":\"Any\",\"default\":[{\"type\":\"map\",\"entries\":[[\"type\",\"warning\"],[\"background\",\"#ffc107\"],[\"icon\",{\"type\":\"map\",\"entries\":[[\"className\",\"fas fa-exclamation-triangle\"],[\"tagName\",\"i\"],[\"color\",\"white\"]]}]]},{\"type\":\"map\",\"entries\":[[\"type\",\"info\"],[\"background\",\"#007bff\"],[\"icon\",{\"type\":\"map\",\"entries\":[[\"className\",\"fas fa-info-circle\"],[\"tagName\",\"i\"],[\"color\",\"white\"]]}]]}]}]},{\"type\":\"model\",\"name\":\"Notification\",\"properties\":[{\"name\":\"background\",\"kind\":\"Any\",\"default\":null},{\"name\":\"duration\",\"kind\":\"Any\",\"default\":3000},{\"name\":\"icon\",\"kind\":\"Any\",\"default\":null},{\"name\":\"message\",\"kind\":\"Any\",\"default\":\"\"},{\"name\":\"notification_type\",\"kind\":\"Any\",\"default\":null},{\"name\":\"_destroyed\",\"kind\":\"Any\",\"default\":false}]},{\"type\":\"model\",\"name\":\"TemplateActions1\",\"properties\":[{\"name\":\"open_modal\",\"kind\":\"Any\",\"default\":0},{\"name\":\"close_modal\",\"kind\":\"Any\",\"default\":0}]},{\"type\":\"model\",\"name\":\"BootstrapTemplateActions1\",\"properties\":[{\"name\":\"open_modal\",\"kind\":\"Any\",\"default\":0},{\"name\":\"close_modal\",\"kind\":\"Any\",\"default\":0}]},{\"type\":\"model\",\"name\":\"MaterialTemplateActions1\",\"properties\":[{\"name\":\"open_modal\",\"kind\":\"Any\",\"default\":0},{\"name\":\"close_modal\",\"kind\":\"Any\",\"default\":0}]}]}};\n",
       "  var render_items = [{\"docid\":\"315ca940-5cc6-4dd8-b937-90e0d92421e2\",\"roots\":{\"p10558\":\"f7edccf5-967e-4295-ba8c-0b5bf32c6679\"},\"root_ids\":[\"p10558\"]}];\n",
       "  var docs = Object.values(docs_json)\n",
       "  if (!docs) {\n",
       "    return\n",
       "  }\n",
       "  const py_version = docs[0].version.replace('rc', '-rc.').replace('.dev', '-dev.')\n",
       "  const is_dev = py_version.indexOf(\"+\") !== -1 || py_version.indexOf(\"-\") !== -1\n",
       "  function embed_document(root) {\n",
       "    var Bokeh = get_bokeh(root)\n",
       "    Bokeh.embed.embed_items_notebook(docs_json, render_items);\n",
       "    for (const render_item of render_items) {\n",
       "      for (const root_id of render_item.root_ids) {\n",
       "\tconst id_el = document.getElementById(root_id)\n",
       "\tif (id_el.children.length && (id_el.children[0].className === 'bk-root')) {\n",
       "\t  const root_el = id_el.children[0]\n",
       "\t  root_el.id = root_el.id + '-rendered'\n",
       "\t}\n",
       "      }\n",
       "    }\n",
       "  }\n",
       "  function get_bokeh(root) {\n",
       "    if (root.Bokeh === undefined) {\n",
       "      return null\n",
       "    } else if (root.Bokeh.version !== py_version && !is_dev) {\n",
       "      if (root.Bokeh.versions === undefined || !root.Bokeh.versions.has(py_version)) {\n",
       "\treturn null\n",
       "      }\n",
       "      return root.Bokeh.versions.get(py_version);\n",
       "    } else if (root.Bokeh.version === py_version) {\n",
       "      return root.Bokeh\n",
       "    }\n",
       "    return null\n",
       "  }\n",
       "  function is_loaded(root) {\n",
       "    var Bokeh = get_bokeh(root)\n",
       "    return (Bokeh != null && Bokeh.Panel !== undefined)\n",
       "  }\n",
       "  if (is_loaded(root)) {\n",
       "    embed_document(root);\n",
       "  } else {\n",
       "    var attempts = 0;\n",
       "    var timer = setInterval(function(root) {\n",
       "      if (is_loaded(root)) {\n",
       "        clearInterval(timer);\n",
       "        embed_document(root);\n",
       "      } else if (document.readyState == \"complete\") {\n",
       "        attempts++;\n",
       "        if (attempts > 200) {\n",
       "          clearInterval(timer);\n",
       "\t  var Bokeh = get_bokeh(root)\n",
       "\t  if (Bokeh == null || Bokeh.Panel == null) {\n",
       "            console.warn(\"Panel: ERROR: Unable to run Panel code because Bokeh or Panel library is missing\");\n",
       "\t  } else {\n",
       "\t    console.warn(\"Panel: WARNING: Attempting to render but not all required libraries could be resolved.\")\n",
       "\t    embed_document(root)\n",
       "\t  }\n",
       "        }\n",
       "      }\n",
       "    }, 25, root)\n",
       "  }\n",
       "})(window);</script>"
      ],
      "text/plain": [
       ":Scatter   [Traders_Prod_Merc_Long_All,Traders_Prod_Merc_Short_All]   (Open_Interest_All,Report_Week)"
      ]
     },
     "execution_count": 114,
     "metadata": {
      "application/vnd.holoviews_exec.v0+json": {
       "id": "p10558"
      }
     },
     "output_type": "execute_result"
    }
   ],
   "source": [
    "import pandas as pd\n",
    "import holoviews as hv\n",
    "from holoviews import dim\n",
    "# Create the scatter plot\n",
    "scatter_plot = hv.Scatter(data, kdims=['Traders_Prod_Merc_Long_All', 'Traders_Prod_Merc_Short_All'], vdims=['Open_Interest_All', 'Report_Week'])\n",
    "\n",
    "# Customize the plot appearance\n",
    "scatter_plot.opts(\n",
    "    color='blue',        # Color of the scatter points\n",
    "    size=dim('Open_Interest_All') * 0.000001,  # Size of the markers based on Open Interest (scaled for better visualization)\n",
    "    marker='o',          # Marker style\n",
    "    width=800,           # Width of the plot\n",
    "    height=600,          # Height of the plot\n",
    "    xlabel='Producer/Merchant Long Positions',\n",
    "    ylabel='Producer/Merchant Short Positions',\n",
    "    title='Relationship between Traders, Open Interest, and Positions'\n",
    ")\n"
   ]
  },
  {
   "cell_type": "code",
   "execution_count": 71,
   "metadata": {},
   "outputs": [
    {
     "data": {
      "text/plain": [
       "Index(['ID', 'Market_and_Exchange_Names', 'Report_Date_as_YYYY_MM_DD',\n",
       "       'YYYY Report Week WW', 'Contract_Market_Name',\n",
       "       'CFTC_Contract_Market_Code', 'CFTC_Market_Code', 'CFTC_Region_Code',\n",
       "       'CFTC_Commodity_Code', 'Commodity Name', 'Open_Interest_All',\n",
       "       'Prod_Merc_Positions_Long_All', 'Prod_Merc_Positions_Short_All',\n",
       "       'Swap_Positions_Long_All', 'Swap__Positions_Short_All',\n",
       "       'Other_Rept_Positions_Long_All', 'Other_Rept_Positions_Short_All',\n",
       "       'Tot_Rept_Positions_Long_All', 'Tot_Rept_Positions_Short_All',\n",
       "       'Open_Interest_Old', 'Open_Interest_Other',\n",
       "       'Change_in_Open_Interest_All', 'Change_in_Tot_Rept_Long_All',\n",
       "       'Change_in_Tot_Rept_Short_All', 'Pct_of_Open_Interest_All',\n",
       "       'Pct_of_OI_Prod_Merc_Long_All', 'Pct_of_OI_Prod_Merc_Short_All',\n",
       "       'Pct_of_OI_Tot_Rept_Long_All', 'Pct_of_OI_Tot_Rept_Short_All',\n",
       "       'Pct_of_Open_Interest_Old', 'Pct_of_OI_Prod_Merc_Long_Old',\n",
       "       'Pct_of_OI_Prod_Merc_Short_Old', 'Pct_of_Open_Interest_Other',\n",
       "       'Pct_of_OI_Prod_Merc_Long_Other', 'Pct_of_OI_Prod_Merc_Short_Other',\n",
       "       'Traders_Prod_Merc_Long_All', 'Traders_Prod_Merc_Short_All',\n",
       "       'Traders_Tot_Rept_Long_All', 'Traders_Tot_Rept_Short_All',\n",
       "       'Traders_Prod_Merc_Long_Old', 'Traders_Prod_Merc_Short_Old',\n",
       "       'Traders_Prod_Merc_Long_Other', 'Contract_Units', 'CFTC_SubGroup_Code',\n",
       "       'COMMODITY_NAME', 'COMMODITY_SUBGROUP_NAME', 'COMMODITY_GROUP_NAME',\n",
       "       'Year', 'Report_Week'],\n",
       "      dtype='object')"
      ]
     },
     "execution_count": 71,
     "metadata": {},
     "output_type": "execute_result"
    }
   ],
   "source": [
    "data.columns"
   ]
  },
  {
   "cell_type": "code",
   "execution_count": 148,
   "metadata": {},
   "outputs": [
    {
     "name": "stderr",
     "output_type": "stream",
     "text": [
      "C:\\Users\\user\\AppData\\Local\\Temp\\ipykernel_7024\\3180055068.py:13: UserWarning: Could not infer format, so each element will be parsed individually, falling back to `dateutil`. To ensure parsing is consistent and as-expected, please specify a format.\n",
      "  data = pd.read_csv(\"D:\\kulea_projects\\sugar_futures\\Sugar_Futures.csv\", parse_dates=[\"Report_Date_as_YYYY_MM_DD\"],)\n",
      "WARNING:param.Scatter: Chart elements should only be supplied a single kdim\n"
     ]
    },
    {
     "ename": "TypeError",
     "evalue": "cannot unpack non-iterable DateRange object",
     "output_type": "error",
     "traceback": [
      "\u001b[1;31m---------------------------------------------------------------------------\u001b[0m",
      "\u001b[1;31mTypeError\u001b[0m                                 Traceback (most recent call last)",
      "Cell \u001b[1;32mIn[148], line 123\u001b[0m\n\u001b[0;32m    107\u001b[0m     \u001b[39mreturn\u001b[39;00m pn\u001b[39m.\u001b[39mRow(\n\u001b[0;32m    108\u001b[0m         open_interest_chart,\n\u001b[0;32m    109\u001b[0m         prod_positions_chart,\n\u001b[1;32m   (...)\u001b[0m\n\u001b[0;32m    113\u001b[0m         height\u001b[39m=\u001b[39m\u001b[39m600\u001b[39m  \u001b[39m# Adjust the height\u001b[39;00m\n\u001b[0;32m    114\u001b[0m     )\n\u001b[0;32m    116\u001b[0m \u001b[39m# Create the dashboard layout\u001b[39;00m\n\u001b[0;32m    117\u001b[0m dashboard_layout \u001b[39m=\u001b[39m pn\u001b[39m.\u001b[39mRow(\n\u001b[0;32m    118\u001b[0m     pn\u001b[39m.\u001b[39mColumn(\n\u001b[0;32m    119\u001b[0m         calendar_slider,\n\u001b[0;32m    120\u001b[0m         width\u001b[39m=\u001b[39m\u001b[39m300\u001b[39m  \u001b[39m# Adjust the width of the sidebar\u001b[39;00m\n\u001b[0;32m    121\u001b[0m     ),\n\u001b[0;32m    122\u001b[0m     pn\u001b[39m.\u001b[39mColumn(\n\u001b[1;32m--> 123\u001b[0m         update_charts(calendar_slider\u001b[39m.\u001b[39;49mparam\u001b[39m.\u001b[39;49mvalue),\n\u001b[0;32m    124\u001b[0m         width_policy\u001b[39m=\u001b[39m\u001b[39m\"\u001b[39m\u001b[39mmax\u001b[39m\u001b[39m\"\u001b[39m,  \u001b[39m# Adjust the width policy\u001b[39;00m\n\u001b[0;32m    125\u001b[0m         height\u001b[39m=\u001b[39m\u001b[39m600\u001b[39m  \u001b[39m# Adjust the height\u001b[39;00m\n\u001b[0;32m    126\u001b[0m     )\n\u001b[0;32m    127\u001b[0m )\n\u001b[0;32m    129\u001b[0m \u001b[39m# Show the dashboard\u001b[39;00m\n\u001b[0;32m    130\u001b[0m dashboard_layout\u001b[39m.\u001b[39mservable()\n",
      "File \u001b[1;32mc:\\Users\\user\\anaconda3\\envs\\venv_heroku_3_9_17\\lib\\site-packages\\param\\parameterized.py:407\u001b[0m, in \u001b[0;36mdepends.<locals>._depends\u001b[1;34m(*args, **kw)\u001b[0m\n\u001b[0;32m    405\u001b[0m \u001b[39m@wraps\u001b[39m(func)\n\u001b[0;32m    406\u001b[0m \u001b[39mdef\u001b[39;00m \u001b[39m_depends\u001b[39m(\u001b[39m*\u001b[39margs, \u001b[39m*\u001b[39m\u001b[39m*\u001b[39mkw):\n\u001b[1;32m--> 407\u001b[0m     \u001b[39mreturn\u001b[39;00m func(\u001b[39m*\u001b[39margs, \u001b[39m*\u001b[39m\u001b[39m*\u001b[39mkw)\n",
      "Cell \u001b[1;32mIn[148], line 88\u001b[0m, in \u001b[0;36mupdate_charts\u001b[1;34m(date_range)\u001b[0m\n\u001b[0;32m     86\u001b[0m \u001b[39m@pn\u001b[39m\u001b[39m.\u001b[39mdepends(calendar_slider\u001b[39m.\u001b[39mparam\u001b[39m.\u001b[39mvalue)\n\u001b[0;32m     87\u001b[0m \u001b[39mdef\u001b[39;00m \u001b[39mupdate_charts\u001b[39m(date_range):\n\u001b[1;32m---> 88\u001b[0m     start_date, end_date \u001b[39m=\u001b[39m date_range\n\u001b[0;32m     89\u001b[0m     filtered_data \u001b[39m=\u001b[39m data[(data[\u001b[39m'\u001b[39m\u001b[39mReport_Date_as_YYYY_MM_DD\u001b[39m\u001b[39m'\u001b[39m] \u001b[39m>\u001b[39m\u001b[39m=\u001b[39m start_date) \u001b[39m&\u001b[39m (data[\u001b[39m'\u001b[39m\u001b[39mReport_Date_as_YYYY_MM_DD\u001b[39m\u001b[39m'\u001b[39m] \u001b[39m<\u001b[39m\u001b[39m=\u001b[39m end_date)]\n\u001b[0;32m     91\u001b[0m     open_interest_chart \u001b[39m=\u001b[39m filtered_data\u001b[39m.\u001b[39mhvplot(x\u001b[39m=\u001b[39m\u001b[39m'\u001b[39m\u001b[39mReport_Date_as_YYYY_MM_DD\u001b[39m\u001b[39m'\u001b[39m, y\u001b[39m=\u001b[39m\u001b[39m'\u001b[39m\u001b[39mOpen_Interest_All\u001b[39m\u001b[39m'\u001b[39m, kind\u001b[39m=\u001b[39m\u001b[39m'\u001b[39m\u001b[39mline\u001b[39m\u001b[39m'\u001b[39m)\n",
      "\u001b[1;31mTypeError\u001b[0m: cannot unpack non-iterable DateRange object"
     ]
    }
   ],
   "source": [
    "# import the libraries\n",
    "import numpy as np\n",
    "import pandas as pd\n",
    "import panel as pn\n",
    "import hvplot.pandas\n",
    "from bokeh.plotting import figure\n",
    "# from bokeh.io import out_notebook, show\n",
    "import holoviews as hv\n",
    "from holoviews import dim\n",
    "import jupyter_bokeh\n",
    "\n",
    "# Load the data\n",
    "data = pd.read_csv(\"D:\\kulea_projects\\sugar_futures\\Sugar_Futures.csv\", parse_dates=[\"Report_Date_as_YYYY_MM_DD\"],) \n",
    "                #    date_format=\"%Y-%m-%d\")\n",
    "data.head()\n",
    "\n",
    "data[['Year', 'Report_Week']] = data['YYYY Report Week WW'].str.split(' Report Week ', expand=True)\n",
    "# data.drop('YYYY Report Week WW', axis=1, inplace=True)\n",
    "data[['Year', 'Report_Week']].tail()\n",
    "\n",
    "data['Open_Interest_All'] = data['Open_Interest_All'].str.replace(',', '').astype(int)\n",
    "data['Prod_Merc_Positions_Long_All'] = data['Prod_Merc_Positions_Long_All'].str.replace(',', '').astype(int)\n",
    "data['Prod_Merc_Positions_Short_All'] = data['Prod_Merc_Positions_Short_All'].str.replace(',', '').astype(int)\n",
    "# data['Traders_Prod_Merc_Short_All'] = data['Traders_Prod_Merc_Short_All'].str.replace(',', '').astype(int)\n",
    "# data['Traders_Prod_Merc_Short_All'] = data['Traders_Prod_Merc_Long_All'].str.replace(',', '').astype(int)\n",
    "\n",
    "# Create a Panel DataFrame object\n",
    "df_pane = pn.pane.DataFrame(data)\n",
    "\n",
    "# Create a calendar slider\n",
    "calendar_slider = pn.widgets.DateRangeSlider(name=\"Date Range\", start=data['Report_Date_as_YYYY_MM_DD'].min(),\n",
    "                                             end=data['Report_Date_as_YYYY_MM_DD'].max(),\n",
    "                                             value=(data['Report_Date_as_YYYY_MM_DD'].min(), data['Report_Date_as_YYYY_MM_DD'].max()))\n",
    "\n",
    "# Create charts for various questions\n",
    "# open_interest_chart = data.hvplot(x='Report_Date_as_YYYY_MM_DD', y=np.log(data['Open_Interest_All']), kind='line')\n",
    "open_interest_chart = data.hvplot(x='Report_Date_as_YYYY_MM_DD', y='Open_Interest_All', kind='line')\n",
    "prod_positions_chart = data.hvplot(\n",
    "    x='Report_Date_as_YYYY_MM_DD', \n",
    "    y=['Prod_Merc_Positions_Long_All', 'Prod_Merc_Positions_Short_All', 'Open_Interest_All',], \n",
    "    kind='line')\n",
    "\n",
    "trader_positions_chart_ = data.hvplot(\n",
    "    x='Year', \n",
    "    y=['Traders_Prod_Merc_Long_All', 'Traders_Prod_Merc_Short_All',],# 'Open_Interest_All',], \n",
    "    kind='scatter',\n",
    "    width=800)    \n",
    "\n",
    "# concentration_vs_pct_open_interest_chart = data.hvplot(x='Report_Date_as_YYYY_MM_DD', y=['Conc_Gross_LE_4_TDR_Long_All', 'Pct_of_Open_Interest_All'], kind='line')\n",
    "scatter_plot= hv.Scatter(\n",
    "    data, kdims=['Traders_Prod_Merc_Long_All', 'Traders_Prod_Merc_Short_All'], \n",
    "    vdims=['Open_Interest_All', 'Report_Week'])\n",
    "# Customize the plot appearance\n",
    "scatter_plot.opts(\n",
    "    color='blue',        # Color of the scatter points\n",
    "    size=dim('Open_Interest_All') * 0.000001,  # Size of the markers based on Open Interest (scaled for better visualization)\n",
    "    # size=10,\n",
    "    marker='o',          # Marker style\n",
    "    width=700,           # Width of the plot\n",
    "    # height=800,          # Height of the plot\n",
    "    xlabel='Producer/Merchant Long Positions',\n",
    "    ylabel='Producer/Merchant Short Positions',\n",
    "    title='Relationship between Traders, Open Interest, and Positions'\n",
    ")\n",
    "seasonal_trader_positions_chart = data.hvplot(x='Report_Week', y=['Traders_Prod_Merc_Short_All', 'Traders_Prod_Merc_Long_All'], by='Year', kind='bar', stacked=True)\n",
    "# open_interest_change = data.hvplot(x='YYYY Report Week WW', y='Change_in_Open_Interest_All', kind='bar')\n",
    "\n",
    "# # Create the dashboard layout\n",
    "# dashboard_layout = pn.Row(\n",
    "#     pn.Column(\n",
    "#         calendar_slider,\n",
    "#         width=300  # Adjust the width of the sidebar\n",
    "#     ),\n",
    "#     pn.Column(\n",
    "#         pn.Row(open_interest_chart, prod_positions_chart),\n",
    "#         width_policy=\"max\",  # Adjust the width policy\n",
    "#         height=600  # Adjust the height\n",
    "#     )\n",
    "# )\n",
    "\n",
    "# # Show the dashboard\n",
    "# dashboard_layout.servable()\n",
    "# ... (previous code remains unchanged)\n",
    "\n",
    "# Wrap the charts in pn.interact\n",
    "@pn.depends(calendar_slider.param.value)\n",
    "def update_charts(date_range):\n",
    "    start_date, end_date = date_range\n",
    "    filtered_data = data[(data['Report_Date_as_YYYY_MM_DD'] >= start_date) & (data['Report_Date_as_YYYY_MM_DD'] <= end_date)]\n",
    "\n",
    "    open_interest_chart = filtered_data.hvplot(x='Report_Date_as_YYYY_MM_DD', y='Open_Interest_All', kind='line')\n",
    "    prod_positions_chart = filtered_data.hvplot(x='Report_Date_as_YYYY_MM_DD', y=['Prod_Merc_Positions_Long_All', 'Prod_Merc_Positions_Short_All', 'Open_Interest_All'], kind='line')\n",
    "    trader_positions_chart_ = filtered_data.hvplot(x='Year', y=['Traders_Prod_Merc_Long_All', 'Traders_Prod_Merc_Short_All'], kind='scatter', width=800)\n",
    "    scatter_plot = hv.Scatter(\n",
    "        filtered_data, kdims=['Traders_Prod_Merc_Long_All', 'Traders_Prod_Merc_Short_All'], \n",
    "        vdims=['Open_Interest_All', 'Report_Week'])\n",
    "    scatter_plot.opts(\n",
    "        color='blue',\n",
    "        size=dim('Open_Interest_All') * 0.000001,\n",
    "        marker='o',\n",
    "        width=700,\n",
    "        xlabel='Producer/Merchant Long Positions',\n",
    "        ylabel='Producer/Merchant Short Positions',\n",
    "        title='Relationship between Traders, Open Interest, and Positions'\n",
    "    )\n",
    "\n",
    "    return pn.Row(\n",
    "        open_interest_chart,\n",
    "        prod_positions_chart,\n",
    "        trader_positions_chart_,\n",
    "        scatter_plot,\n",
    "        width_policy=\"max\",  # Adjust the width policy\n",
    "        height=600  # Adjust the height\n",
    "    )\n",
    "\n",
    "# Create the dashboard layout\n",
    "dashboard_layout = pn.Row(\n",
    "    pn.Column(\n",
    "        calendar_slider,\n",
    "        width=300  # Adjust the width of the sidebar\n",
    "    ),\n",
    "    pn.Column(\n",
    "        update_charts(calendar_slider.param.value),\n",
    "        width_policy=\"max\",  # Adjust the width policy\n",
    "        height=600  # Adjust the height\n",
    "    )\n",
    ")\n",
    "\n",
    "# Show the dashboard\n",
    "dashboard_layout.servable()\n"
   ]
  },
  {
   "cell_type": "code",
   "execution_count": null,
   "metadata": {},
   "outputs": [],
   "source": []
  }
 ],
 "metadata": {
  "kernelspec": {
   "display_name": "venv_heroku_3_9_17",
   "language": "python",
   "name": "python3"
  },
  "language_info": {
   "codemirror_mode": {
    "name": "ipython",
    "version": 3
   },
   "file_extension": ".py",
   "mimetype": "text/x-python",
   "name": "python",
   "nbconvert_exporter": "python",
   "pygments_lexer": "ipython3",
   "version": "3.11.3"
  },
  "orig_nbformat": 4
 },
 "nbformat": 4,
 "nbformat_minor": 2
}
